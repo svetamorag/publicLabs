{
  "nbformat": 4,
  "nbformat_minor": 0,
  "metadata": {
    "colab": {
      "provenance": [],
      "collapsed_sections": [
        "B__wfnHUMwD5",
        "Nq0y8DBBMxiH",
        "2WgiKomGI218",
        "LlsMUVC_JItg",
        "seMyI5LRKfrt"
      ],
      "include_colab_link": true
    },
    "kernelspec": {
      "name": "python3",
      "display_name": "Python 3"
    },
    "language_info": {
      "name": "python"
    }
  },
  "cells": [
    {
      "cell_type": "markdown",
      "metadata": {
        "id": "view-in-github",
        "colab_type": "text"
      },
      "source": [
        "<a href=\"https://colab.research.google.com/github/svetamorag/publicLabs/blob/main/GenerativeAI_PaLM2.ipynb\" target=\"_parent\"><img src=\"https://colab.research.google.com/assets/colab-badge.svg\" alt=\"Open In Colab\"/></a>"
      ]
    },
    {
      "cell_type": "markdown",
      "source": [
        "##Code Sample\n",
        "\n",
        "It is the code sample for working with Google Cloud PaLM2 API."
      ],
      "metadata": {
        "id": "ZTvvrPEC7aiv"
      }
    },
    {
      "cell_type": "markdown",
      "metadata": {
        "id": "B__wfnHUMwD5"
      },
      "source": [
        "## Authenticate"
      ]
    },
    {
      "cell_type": "code",
      "source": [
        "PROJECT_ID = \"set here your project_id\"  # @param {type:\"string\"}\n",
        "\n",
        "from google.colab import auth as google_auth\n",
        "google_auth.authenticate_user(project_id=PROJECT_ID)"
      ],
      "metadata": {
        "id": "aB4Pj3qKSUCE"
      },
      "execution_count": null,
      "outputs": []
    },
    {
      "cell_type": "markdown",
      "metadata": {
        "id": "Nq0y8DBBMxiH"
      },
      "source": [
        "## Dependencies"
      ]
    },
    {
      "cell_type": "code",
      "execution_count": null,
      "metadata": {
        "id": "COeJRmTx-Vvu"
      },
      "outputs": [],
      "source": [
        "!pip install google-cloud-aiplatform\n",
        "\n"
      ]
    },
    {
      "cell_type": "code",
      "execution_count": null,
      "metadata": {
        "id": "a1-0uwS1-dC7"
      },
      "outputs": [],
      "source": [
        "import vertexai\n",
        "from vertexai.preview.language_models import TextGenerationModel\n",
        "import pandas as pd\n",
        "from google.cloud import storage\n",
        "from google.cloud import translate_v3 as translate\n",
        "import uuid\n",
        "from io import StringIO\n",
        "\n",
        "BUCKET='ccai_bucket_52788'\n",
        "DATAFILE='GoogleStock_history_GOOGLE.csv'\n",
        "REGION = 'us-central1'\n",
        "PARENT=\"projects/\"+PROJECT_ID+\"/locations/\"+REGION"
      ]
    },
    {
      "cell_type": "markdown",
      "source": [
        "##Build Prompt\n",
        "The function buildPrompt() reads the data from the CSV file Google Stock history - GOOGLE.csv and stores it in a pandas data frame. It then creates a prompt that asks the user to provide the highest price, lowest price, and close price of the stock."
      ],
      "metadata": {
        "id": "2WgiKomGI218"
      }
    },
    {
      "cell_type": "code",
      "source": [
        "def buildPrompt():\n",
        "    storage_client = storage.Client()\n",
        "    bucket = storage_client.get_bucket(BUCKET)\n",
        "    blob = bucket.get_blob(DATAFILE)\n",
        "    csvStringIO = StringIO(blob.download_as_text())\n",
        "    df = pd.read_csv(csvStringIO)\n",
        "\n",
        "    prompt = \"\"\"Read this data for GOOG stock:\n",
        "    \"\"\" + df.to_string()+\"\"\"\n",
        "    and explain the status of the GOOGL stock based on the \"close\" column in the following format:\n",
        "    GOOGLE stock information:\n",
        "    The highest price was:\n",
        "    The lowest price was:\n",
        "    The close price in the end of the period was __.\n",
        "    \"\"\"\n",
        "    return prompt\n",
        "\n",
        "print(buildPrompt())"
      ],
      "metadata": {
        "id": "L-XUwzSgJAsJ",
        "colab": {
          "base_uri": "https://localhost:8080/"
        },
        "outputId": "8c67ee8f-9f1a-4ee5-fc61-869192556433"
      },
      "execution_count": null,
      "outputs": [
        {
          "output_type": "stream",
          "name": "stdout",
          "text": [
            "Read this data for GOOG stock:\n",
            "                 Date    Open    High     Low   Close Change %      Volume\n",
            "0   Jun. 16, 2023  126.70  126.70  123.79  124.06   -1.38%  56,699,200\n",
            "1   Jun. 15, 2023  123.88  126.16  123.14  125.79    1.13%  24,517,071\n",
            "2   Jun. 14, 2023  123.80  124.79  122.16  124.38   -0.04%  24,659,620\n",
            "3   Jun. 13, 2023  125.65  125.86  123.85  124.43    0.06%  19,287,650\n",
            "4   Jun. 12, 2023  123.40  124.75  122.35  124.35    1.20%  22,289,632\n",
            "5   Jun. 09, 2023  122.56  124.29  122.42  122.87    0.16%  20,313,676\n",
            "6   Jun. 08, 2023  122.59  123.73  122.01  122.67   -0.22%  24,814,996\n",
            "7   Jun. 07, 2023  127.58  129.55  122.63  122.94   -3.89%  34,179,348\n",
            "8   Jun. 06, 2023  126.60  128.88  125.97  127.91    1.01%  19,450,128\n",
            "9   Jun. 05, 2023  124.61  127.99  124.38  126.63    1.12%  22,672,516\n",
            "10  Jun. 02, 2023  124.49  126.75  124.35  125.23    0.69%  19,367,453\n",
            "11  Jun. 01, 2023  123.50  125.04  123.30  124.37    0.81%  25,017,674\n",
            "12   May 31, 2023  123.70  124.90  123.10  123.37   -1.02%  41,548,759\n",
            "13   May 30, 2023  126.29  126.38  122.89  124.64   -0.63%  27,230,726\n",
            "14   May 26, 2023  124.07  126.00  123.29  125.43    0.87%  25,169,036\n",
            "15   May 25, 2023  125.21  125.98  122.90  124.35    2.23%  33,812,730\n",
            "16   May 24, 2023  121.88  122.75  120.75  121.64   -1.34%  23,087,925\n",
            "17   May 23, 2023  124.93  125.42  123.05  123.29   -2.05%  24,477,945\n",
            "18   May 22, 2023  123.51  127.05  123.45  125.87    2.13%  29,760,236\n",
            "19   May 19, 2023  124.20  126.48  122.72  123.25   -0.22%  30,268,864\n",
            "20   May 18, 2023  121.56  123.90  121.49  123.52    1.68%  27,014,468\n",
            "21   May 17, 2023  120.18  122.28  119.46  121.48    1.16%  26,659,564\n",
            "22   May 16, 2023  116.83  121.20  116.83  120.09    2.68%  32,370,113\n",
            "23   May 15, 2023  116.49  118.80  116.48  116.96   -0.81%  22,107,865\n",
            "24   May 12, 2023  117.00  118.26  116.55  117.92    0.87%  31,293,778\n",
            "25   May 11, 2023  115.86  118.44  114.93  116.90    4.11%  57,115,075\n",
            "26   May 10, 2023  108.55  113.51  108.48  112.28    4.02%  47,533,463\n",
            "27   May 09, 2023  108.78  110.60  107.73  107.94   -0.28%  24,782,442\n",
            "28   May 08, 2023  105.80  108.42  105.79  108.24    1.91%  17,266,021\n",
            "29   May 05, 2023  105.32  106.44  104.74  106.22    0.96%  20,710,627\n",
            "30   May 04, 2023  106.16  106.30  104.70  105.21   -0.86%  19,780,637\n",
            "31   May 03, 2023  106.22  108.13  105.62  106.12    0.13%  17,116,333\n",
            "32   May 02, 2023  107.66  107.73  104.50  105.98   -1.61%  20,343,116\n",
            "33   May 01, 2023  107.72  108.68  107.50  107.71   -0.47%  20,926,259\n",
            "    and explain the status of the GOOGL stock based on the \"close\" column in the following format:\n",
            "    GOOGLE stock information:\n",
            "    The highest price was:\n",
            "    The lowest price was:\n",
            "    The close price in the end of the period was __.\n",
            "    \n"
          ]
        }
      ]
    },
    {
      "cell_type": "markdown",
      "source": [
        "##Work with PaLM2 API\n",
        "This function uses the vertexai library to get a response from the PaLM 2 model. The prompt is first built using the \"buildPrompt()\" function, then the model is initialized and the response is returned."
      ],
      "metadata": {
        "id": "LlsMUVC_JItg"
      }
    },
    {
      "cell_type": "code",
      "source": [
        "def getPaLM2Response():\n",
        "    prompt=buildPrompt()\n",
        "    vertexai.init(project=PROJECT_ID, location=\"us-central1\")\n",
        "\n",
        "    generation_model = TextGenerationModel.from_pretrained(\"text-bison@001\")\n",
        "\n",
        "    return generation_model.predict(prompt=prompt, max_output_tokens=256).text\n",
        "\n",
        "getPaLM2Response()"
      ],
      "metadata": {
        "id": "aNefuO3jJMDk",
        "colab": {
          "base_uri": "https://localhost:8080/",
          "height": 53
        },
        "outputId": "7b9d5bc2-22be-4a5a-b820-bc0f5cc2af37"
      },
      "execution_count": null,
      "outputs": [
        {
          "output_type": "execute_result",
          "data": {
            "text/plain": [
              "'GOOGLE stock information:\\n    The highest price was 128.88.\\n    The lowest price was 104.50.\\n    The close price in the end of the period was 124.06.'"
            ],
            "application/vnd.google.colaboratory.intrinsic+json": {
              "type": "string"
            }
          },
          "metadata": {},
          "execution_count": 7
        }
      ]
    },
    {
      "cell_type": "markdown",
      "source": [
        "##Translate text\n",
        "This function translates a string text to a language specified by target."
      ],
      "metadata": {
        "id": "seMyI5LRKfrt"
      }
    },
    {
      "cell_type": "code",
      "source": [
        "\n",
        "def translateText(target: str, text: str) -> dict:\n",
        "    # Replace 'your-project-id' with your actual GCP project ID\n",
        "\n",
        "    client = translate.TranslationServiceClient()\n",
        "    response = client.translate_text(\n",
        "        request={\n",
        "            \"parent\": PARENT,\n",
        "            \"contents\": [text],\n",
        "            \"target_language_code\": target,\n",
        "        }\n",
        "    )\n",
        "\n",
        "    result = response.translations[0].translated_text\n",
        "    return result\n",
        "\n",
        "translateText('he', getPaLM2Response())\n",
        "\n"
      ],
      "metadata": {
        "colab": {
          "base_uri": "https://localhost:8080/",
          "height": 35
        },
        "id": "Sj6M_-zZKnFY",
        "outputId": "0e6052e6-e808-4611-c043-5b48a91c986b"
      },
      "execution_count": null,
      "outputs": [
        {
          "output_type": "execute_result",
          "data": {
            "text/plain": [
              "'מידע על מניית GOOGLE: המחיר הגבוה ביותר היה 128.88. המחיר הנמוך ביותר היה 104.50. מחיר הסגירה בסוף התקופה עמד על 124.06.'"
            ],
            "application/vnd.google.colaboratory.intrinsic+json": {
              "type": "string"
            }
          },
          "metadata": {},
          "execution_count": 8
        }
      ]
    },
    {
      "cell_type": "markdown",
      "source": [
        "> by Sveta Morag (@svetam)\n",
        "\n",
        "\n",
        "\n",
        "\n"
      ],
      "metadata": {
        "id": "N6-2mDoG6ePy"
      }
    }
  ]
}